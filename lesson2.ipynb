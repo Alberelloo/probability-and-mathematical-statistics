{
 "cells": [
  {
   "cell_type": "code",
   "execution_count": 4,
   "id": "c848864a",
   "metadata": {},
   "outputs": [],
   "source": [
    "import numpy as np\n",
    "import math as m"
   ]
  },
  {
   "cell_type": "code",
   "execution_count": 5,
   "id": "f1a4f944",
   "metadata": {},
   "outputs": [],
   "source": [
    "def comb(n,k):\n",
    "    res = m.factorial(n) / (m.factorial(k) * m.factorial(n-k))\n",
    "    return(res)"
   ]
  },
  {
   "cell_type": "markdown",
   "id": "38af52eb",
   "metadata": {},
   "source": [
    "## Task 1\n",
    "Вероятность того, что стрелок попадет в мишень, выстрелив один раз, равна 0.8. Стрелок выстрелил 100 раз. Найдите вероятность того, что стрелок попадет в цель ровно 85 раз."
   ]
  },
  {
   "cell_type": "code",
   "execution_count": 13,
   "id": "ea332f9e",
   "metadata": {},
   "outputs": [
    {
     "data": {
      "text/plain": [
       "0.048061793700746556"
      ]
     },
     "execution_count": 13,
     "metadata": {},
     "output_type": "execute_result"
    }
   ],
   "source": [
    "#Воспользуемся формулой Бернулли\n",
    "\n",
    "p = comb(100,85) * (0.8 ** 85) * (0.2 ** 15)\n",
    "p"
   ]
  },
  {
   "cell_type": "markdown",
   "id": "4ea7146c",
   "metadata": {},
   "source": [
    "## Task 2\n",
    "Вероятность того, что лампочка перегорит в течение первого дня эксплуатации, равна 0.0004. В жилом комплексе после ремонта в один день включили 5000 новых лампочек. Какова вероятность, что ни одна из них не перегорит в первый день? Какова вероятность, что перегорят ровно две?"
   ]
  },
  {
   "cell_type": "code",
   "execution_count": 21,
   "id": "40bb5e90",
   "metadata": {},
   "outputs": [
    {
     "data": {
      "text/plain": [
       "(0.2706705664732254, 0.1353352832366127)"
      ]
     },
     "execution_count": 21,
     "metadata": {},
     "output_type": "execute_result"
    }
   ],
   "source": [
    "#Воспользуемся формулой Пуасстона\n",
    "\n",
    "lambd = 0.0004 * 5000\n",
    "p1 = lambd / m.factorial(0) * m.exp(-lambd)\n",
    "p2 = lambd / m.factorial(2) * m.exp(-lambd)\n",
    "p1, p2"
   ]
  },
  {
   "cell_type": "markdown",
   "id": "2c9fc05c",
   "metadata": {},
   "source": [
    "## Task 3\n",
    "Монету подбросили 144 раза. Какова вероятность, что орел выпадет ровно 70 раз?"
   ]
  },
  {
   "cell_type": "code",
   "execution_count": 23,
   "id": "d84f6c6a",
   "metadata": {},
   "outputs": [
    {
     "data": {
      "text/plain": [
       "0.06281178035144776"
      ]
     },
     "execution_count": 23,
     "metadata": {},
     "output_type": "execute_result"
    }
   ],
   "source": [
    "#Воспользуемся формулой Бернулли\n",
    "\n",
    "p = comb(144,70) * (0.5 ** 70) * (0.5 ** 74)\n",
    "p"
   ]
  },
  {
   "cell_type": "markdown",
   "id": "da07b6a9",
   "metadata": {},
   "source": [
    "## Task 4\n",
    "В первом ящике находится 10 мячей, из которых 7 - белые. Во втором ящике - 11 мячей, из которых 9 белых. Из каждого ящика вытаскивают случайным образом по два мяча. \n",
    "1. Какова вероятность того, что все мячи белые? \n",
    "2. Какова вероятность того, что ровно два мяча белые? \n",
    "3. Какова вероятность того, что хотя бы один мяч белый?"
   ]
  },
  {
   "cell_type": "code",
   "execution_count": 41,
   "id": "a6b5301f",
   "metadata": {},
   "outputs": [
    {
     "data": {
      "text/plain": [
       "(0.3054545454545455, 0.20484848484848486, 0.9987878787878788)"
      ]
     },
     "execution_count": 41,
     "metadata": {},
     "output_type": "execute_result"
    }
   ],
   "source": [
    "# Переложим все мячи в один ящик и будем из него вытаскивать 4 мяча.\n",
    "\n",
    "#1\n",
    "p1 = comb(7,2) / comb(10,2) * comb(9,2) / comb(11,2)\n",
    "\n",
    "#2\n",
    "# Есть 3 варианта: 1) из первого ящика 2 белых вытянули, 2) по одному из каждого, 3) 2 из последнего; их сумма даст ответ\n",
    "var1 = comb(7,2) / comb(10,2) * comb(2,2) / comb(11,2)\n",
    "var2 = (comb(7,1) * comb(3,1) / comb(10,2)) * (comb(9,1) * comb(2,1) / comb(11,2) )\n",
    "var3 = comb(3,2) / comb(10,2) * comb(9,2) / comb(11,2)\n",
    "\n",
    "p2 = var1 + var2 + var3\n",
    "\n",
    "#3 \n",
    "# 'хотя бы один' = 1 - 'нет ни одного'\n",
    "p3 = 1 - comb(3,2) / comb(10,2) * comb(2,2) / comb(11,2)\n",
    "\n",
    "p1, p2, p3"
   ]
  }
 ],
 "metadata": {
  "kernelspec": {
   "display_name": "Python 3 (ipykernel)",
   "language": "python",
   "name": "python3"
  },
  "language_info": {
   "codemirror_mode": {
    "name": "ipython",
    "version": 3
   },
   "file_extension": ".py",
   "mimetype": "text/x-python",
   "name": "python",
   "nbconvert_exporter": "python",
   "pygments_lexer": "ipython3",
   "version": "3.9.7"
  }
 },
 "nbformat": 4,
 "nbformat_minor": 5
}
