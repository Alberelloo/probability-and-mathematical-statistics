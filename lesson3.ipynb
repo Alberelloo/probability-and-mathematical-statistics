{
 "cells": [
  {
   "cell_type": "code",
   "execution_count": 4,
   "id": "e89ae5e6",
   "metadata": {},
   "outputs": [],
   "source": [
    "import numpy as np\n",
    "import math as m"
   ]
  },
  {
   "cell_type": "code",
   "execution_count": 5,
   "id": "939a7262",
   "metadata": {},
   "outputs": [],
   "source": [
    "def comb(n,k):\n",
    "    res = m.factorial(n) / (m.factorial(k) * m.factorial(n-k))\n",
    "    return(res)"
   ]
  },
  {
   "cell_type": "markdown",
   "id": "d0944901",
   "metadata": {},
   "source": [
    "### Task 1\n",
    "Даны значения зарплат из выборки выпускников: 100, 80, 75, 77, 89, 33, 45, 25, 65, 17, 30, 24, 57, 55, 70, 75, 65, 84, 90, 150. Посчитать среднее арифметическое, среднее квадратичное отклонение, смещенную и несмещенную оценки дисперсий для данной выборки."
   ]
  },
  {
   "cell_type": "code",
   "execution_count": 18,
   "id": "db3d6ca9",
   "metadata": {},
   "outputs": [
    {
     "data": {
      "text/plain": [
       "(65.3, 30.823854398825596, 950.11, 1000.1157894736842)"
      ]
     },
     "execution_count": 18,
     "metadata": {},
     "output_type": "execute_result"
    }
   ],
   "source": [
    "salaries = np.array([100, 80, 75, 77, 89, 33, 45, 25, 65, 17, 30, 24, 57, 55, 70, 75, 65, 84, 90, 150])\n",
    "\n",
    "mean = salaries.sum() / salaries.size\n",
    "std = (np.sum((salaries - mean)**2) / salaries.size)**0.5\n",
    "disp = np.sum((salaries - mean)**2) / salaries.size\n",
    "disp_bias = np.sum((salaries - mean)**2) / (salaries.size - 1)\n",
    "\n",
    "mean, std, disp, disp_bias"
   ]
  },
  {
   "cell_type": "markdown",
   "id": "0a80dbb0",
   "metadata": {},
   "source": [
    "### Task 2\n",
    "В первом ящике находится 8 мячей, из которых 5 - белые. Во втором ящике - 12 мячей, из которых 5 белых. Из первого ящика вытаскивают случайным образом два мяча, из второго - 4. Какова вероятность того, что 3 мяча белые?"
   ]
  },
  {
   "cell_type": "code",
   "execution_count": 7,
   "id": "b9d533b7",
   "metadata": {},
   "outputs": [
    {
     "data": {
      "text/plain": [
       "0.3686868686868687"
      ]
     },
     "execution_count": 7,
     "metadata": {},
     "output_type": "execute_result"
    }
   ],
   "source": [
    "# Есть 3 варианта: 1) из первого ящика 0 белых вытянули 2) из первого ящика 1 белый вытянули \n",
    "# 3) из первого ящика 2 белый вытянули; \n",
    "# их сумма даст ответ\n",
    "var1 = (comb(3,2) / comb(8,2)) * (comb(5,3) * comb(7,1) / comb(12,4))\n",
    "var2 = (comb(5,1) * comb(3,1) / comb(8,2)) * (comb(5,2) * comb(7,2) / comb(12,4))\n",
    "var3 = (comb(5,2) / comb(8,2)) * (comb(5,1) * comb(7,3) / comb(12,4))\n",
    "\n",
    "p = var1 + var2 + var3\n",
    "p"
   ]
  },
  {
   "cell_type": "markdown",
   "id": "f9daa40e",
   "metadata": {},
   "source": [
    "# Task 3\n",
    "На соревновании по биатлону один из трех спортсменов стреляет и попадает в мишень. Вероятность попадания для первого спортсмена равна 0.9, для второго — 0.8, для третьего — 0.6. Найти вероятность того, что выстрел произведен: \n",
    "1. первым спортсменом\n",
    "2. вторым спортсменом\n",
    "3. третьим спортсменом"
   ]
  },
  {
   "cell_type": "markdown",
   "id": "1e32d651",
   "metadata": {},
   "source": [
    "Решаем по формуле Байеса"
   ]
  },
  {
   "cell_type": "markdown",
   "id": "ea426945",
   "metadata": {},
   "source": [
    "$P(A|B) = \\frac{P(B|A)\\times P(A)}{P(B)}$, где P(B) - мат. ожидание попадания, P(A) - \n",
    "вероятность сторельбы n-ым спортсменом"
   ]
  },
  {
   "cell_type": "code",
   "execution_count": 5,
   "id": "4d3177d7",
   "metadata": {},
   "outputs": [
    {
     "data": {
      "text/plain": [
       "(0.391304347826087, 0.3478260869565218, 0.2608695652173913)"
      ]
     },
     "execution_count": 5,
     "metadata": {},
     "output_type": "execute_result"
    }
   ],
   "source": [
    "p_b = 1/3 * 0.9 + 1/3 * 0.8 + 1/3 * 0.6\n",
    "\n",
    "#1\n",
    "\n",
    "p_1 = (1/3 * 0.9) / p_b\n",
    "\n",
    "#2\n",
    "\n",
    "p_2 = (1/3 * 0.8) / p_b\n",
    "\n",
    "#3\n",
    "\n",
    "p_3 = (1/3 * 0.6) / p_b\n",
    "\n",
    "p_1, p_2, p_3"
   ]
  },
  {
   "cell_type": "markdown",
   "id": "07df03a9",
   "metadata": {},
   "source": [
    "### Task 4\n",
    "В университет на факультеты A и B поступило равное количество студентов, а на факультет C студентов поступило столько же, сколько на A и B вместе. Вероятность того, что студент факультета A сдаст первую сессию, равна 0.8. Для студента факультета B эта вероятность равна 0.7, а для студента факультета C - 0.9. Студент сдал первую сессию. Какова вероятность, что он учится: \n",
    "1. на факультете A \n",
    "2. на факультете B \n",
    "3. на факультете C"
   ]
  },
  {
   "cell_type": "markdown",
   "id": "ca60ece5",
   "metadata": {},
   "source": [
    "Решаем по формуле Байеса"
   ]
  },
  {
   "cell_type": "code",
   "execution_count": 6,
   "id": "44c04574",
   "metadata": {},
   "outputs": [
    {
     "data": {
      "text/plain": [
       "(0.24242424242424246, 0.21212121212121213, 0.5454545454545455)"
      ]
     },
     "execution_count": 6,
     "metadata": {},
     "output_type": "execute_result"
    }
   ],
   "source": [
    "p_b = 1/4 * 0.8 + 1/4 * 0.7 + 1/2 * 0.9\n",
    "\n",
    "#1\n",
    "\n",
    "p_1 = (1/4 * 0.8) / p_b\n",
    "\n",
    "#2\n",
    "\n",
    "p_2 = (1/4 * 0.7) / p_b\n",
    "\n",
    "#3\n",
    "\n",
    "p_3 = (1/2 * 0.9) / p_b\n",
    "\n",
    "p_1, p_2, p_3"
   ]
  },
  {
   "cell_type": "markdown",
   "id": "8bd45087",
   "metadata": {},
   "source": [
    "### Task 5\n",
    "Устройство состоит из трех деталей. Для первой детали вероятность выйти из строя в первый месяц равна 0.1, для второй - 0.2, для третьей - 0.25. Какова вероятность того, что в первый месяц выйдут из строя: \n",
    "1. все детали \n",
    "2. только две детали \n",
    "3. хотя бы одна деталь \n",
    "4. от одной до двух деталей?"
   ]
  },
  {
   "cell_type": "code",
   "execution_count": 4,
   "id": "e791b5cb",
   "metadata": {},
   "outputs": [
    {
     "data": {
      "text/plain": [
       "(0.005000000000000001, 0.095, 0.65, 0.645)"
      ]
     },
     "execution_count": 4,
     "metadata": {},
     "output_type": "execute_result"
    }
   ],
   "source": [
    "#1\n",
    "p1 = 0.1 * 0.2 * 0.25    \n",
    "\n",
    "#2\n",
    "p2 = (0.1 * 0.2) + (0.1 * 0.25) + (0.2 * 0.25)\n",
    "\n",
    "#3\n",
    "p3 = (0.1 + 0.2 + 0.25) + p2 + p1\n",
    "\n",
    "#4\n",
    "p4 = (0.1 + 0.2 + 0.25) + p2\n",
    "\n",
    "p1, p2, p3, p4"
   ]
  }
 ],
 "metadata": {
  "kernelspec": {
   "display_name": "Python 3 (ipykernel)",
   "language": "python",
   "name": "python3"
  },
  "language_info": {
   "codemirror_mode": {
    "name": "ipython",
    "version": 3
   },
   "file_extension": ".py",
   "mimetype": "text/x-python",
   "name": "python",
   "nbconvert_exporter": "python",
   "pygments_lexer": "ipython3",
   "version": "3.9.7"
  }
 },
 "nbformat": 4,
 "nbformat_minor": 5
}
