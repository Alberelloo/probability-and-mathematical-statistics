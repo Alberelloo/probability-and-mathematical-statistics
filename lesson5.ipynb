{
 "cells": [
  {
   "cell_type": "code",
   "execution_count": 2,
   "id": "c24dc579",
   "metadata": {},
   "outputs": [],
   "source": [
    "import numpy as np\n",
    "import math as m"
   ]
  },
  {
   "cell_type": "markdown",
   "id": "abf34750",
   "metadata": {},
   "source": [
    "### Task 1\n",
    "Известно, что генеральная совокупность распределена нормально\n",
    "со средним квадратическим отклонением, равным 16.\n",
    "Найти доверительный интервал для оценки математического ожидания a с надежностью 0.95,\n",
    "если выборочная средняя M = 80, а объем выборки n = 256."
   ]
  },
  {
   "cell_type": "code",
   "execution_count": 6,
   "id": "739d3633",
   "metadata": {},
   "outputs": [
    {
     "name": "stdout",
     "output_type": "stream",
     "text": [
      "[78.04;81.96]\n"
     ]
    }
   ],
   "source": [
    "se = 16/m.sqrt(256)\n",
    "sigma = 1.96 # 2Ф(sigma)= 0.95 -> Ф(sigma) = 0,475 -> sigma = 1.96\n",
    "left_border = 80 - sigma * se\n",
    "right_border = 80 + sigma * se\n",
    "print(f'[{left_border};{right_border}]')"
   ]
  },
  {
   "cell_type": "markdown",
   "id": "fb43928b",
   "metadata": {},
   "source": [
    "### Task 2\n",
    "В результате 10 независимых измерений некоторой величины X, выполненных с одинаковой точностью,\n",
    "получены опытные данные:\n",
    "6.9, 6.1, 6.2, 6.8, 7.5, 6.3, 6.4, 6.9, 6.7, 6.1\n",
    "Предполагая, что результаты измерений подчинены нормальному закону распределения вероятностей,\n",
    "оценить истинное значение величины X при помощи доверительного интервала, покрывающего это\n",
    "значение с доверительной вероятностью 0,95."
   ]
  },
  {
   "cell_type": "code",
   "execution_count": 13,
   "id": "f81004d0",
   "metadata": {},
   "outputs": [
    {
     "name": "stdout",
     "output_type": "stream",
     "text": [
      "[6.267823367976165;6.9121766320238365]\n"
     ]
    }
   ],
   "source": [
    "#Т.к малое кол-во измерений, то применим критерий Стьюдента\n",
    "data = np.array([6.9, 6.1, 6.2, 6.8, 7.5, 6.3, 6.4, 6.9, 6.7, 6.1])\n",
    "a = data.mean()\n",
    "t = 2.26 # по таблице распределения Стьюдента для t(0.05,9)\n",
    "std = data.std(ddof = 1)\n",
    "se = std/m.sqrt(10)\n",
    "left_border = a - t * se\n",
    "right_border = a + t * se\n",
    "print(f'[{left_border};{right_border}]')"
   ]
  },
  {
   "cell_type": "markdown",
   "id": "28f2773d",
   "metadata": {},
   "source": [
    "### Task 3\n",
    "Проведите тест гипотезы. Утверждается, что шарики для подшипников, изготовленные автоматическим станком, имеют средний диаметр 17 мм.\n",
    "Используя односторонний критерий с α=0,05, проверить эту гипотезу, если в выборке из n=100 шариков средний диаметр\n",
    "оказался равным 17.5 мм, а дисперсия известна и равна 4 кв. мм."
   ]
  },
  {
   "cell_type": "code",
   "execution_count": 16,
   "id": "7ecf4d95",
   "metadata": {},
   "outputs": [],
   "source": [
    "sigma = m.sqrt(4)\n",
    "se = sigma / m.sqrt(100)\n",
    "z = (17.5 - 17) / se\n",
    "# P(X > z) < alpha (0.00621 < 0.05) -> Нулевая гипотеза отклоняется"
   ]
  },
  {
   "cell_type": "markdown",
   "id": "676aa7fb",
   "metadata": {},
   "source": [
    "### Task 4\n",
    "4.Проведите тест гипотезы. Продавец утверждает, что средний вес пачки печенья составляет 200 г.\n",
    "Из партии извлечена выборка из 10 пачек. Вес каждой пачки составляет:\n",
    "202, 203, 199, 197, 195, 201, 200, 204, 194, 190.\n",
    "Известно, что их веса распределены нормально.\n",
    "Верно ли утверждение продавца, если учитывать, что доверительная вероятность равна 99%? (Провести двусторонний тест.)"
   ]
  },
  {
   "cell_type": "code",
   "execution_count": 21,
   "id": "3e3d24d5",
   "metadata": {},
   "outputs": [],
   "source": [
    "#Т.к малое кол-во измерений, то применим критерий Стьюдента\n",
    "data = np.array([202, 203, 199, 197, 195, 201, 200, 204, 194, 190])\n",
    "a = data.mean()\n",
    "std = data.std(ddof = 1)\n",
    "se = std / m.sqrt(10)\n",
    "t = (a - 200) / se\n",
    "# P(X > t) > alpha (1.06 > 0.1) -> Нулевая гипотеза не отклоняется"
   ]
  }
 ],
 "metadata": {
  "kernelspec": {
   "display_name": "Python 3 (ipykernel)",
   "language": "python",
   "name": "python3"
  },
  "language_info": {
   "codemirror_mode": {
    "name": "ipython",
    "version": 3
   },
   "file_extension": ".py",
   "mimetype": "text/x-python",
   "name": "python",
   "nbconvert_exporter": "python",
   "pygments_lexer": "ipython3",
   "version": "3.9.7"
  }
 },
 "nbformat": 4,
 "nbformat_minor": 5
}
