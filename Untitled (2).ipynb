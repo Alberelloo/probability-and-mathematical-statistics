{
 "cells": [
  {
   "cell_type": "code",
   "execution_count": 11,
   "id": "92480c5d",
   "metadata": {},
   "outputs": [],
   "source": [
    "from math import factorial as fact\n",
    "import warnings\n",
    "warnings.filterwarnings(\"ignore\")"
   ]
  },
  {
   "cell_type": "markdown",
   "id": "bfeb0683",
   "metadata": {},
   "source": [
    "### Task 1\n",
    "Из колоды в 52 карты извлекаются случайным образом 4 карты. \n",
    "\n",
    "a) Найти $p_1$ того, что все карты – крести. \n",
    "\n",
    "б) Найти $p_2$, что среди 4-х карт окажется хотя бы один туз."
   ]
  },
  {
   "cell_type": "code",
   "execution_count": 29,
   "id": "78a19192",
   "metadata": {},
   "outputs": [
    {
     "data": {
      "text/plain": [
       "0.0026410564225690276"
      ]
     },
     "execution_count": 29,
     "metadata": {},
     "output_type": "execute_result"
    }
   ],
   "source": [
    "n = fact(52)/(fact(4)*fact(52 - 4)) # Способов выбрать 4 карты из 52\n",
    "\n",
    "club = 52/4 # всего крестей\n",
    "\n",
    "k = fact(club)/(fact(4)*fact(club - 4)) # Способов выбрать 4 карты из всех крестей\n",
    "\n",
    "p1 = k/n\n",
    "p1 "
   ]
  },
  {
   "cell_type": "code",
   "execution_count": 30,
   "id": "d1318746",
   "metadata": {},
   "outputs": [
    {
     "data": {
      "text/plain": [
       "0.2812632745405854"
      ]
     },
     "execution_count": 30,
     "metadata": {},
     "output_type": "execute_result"
    }
   ],
   "source": [
    "# 'окажется хотя бы один туз' = 1 - 'нет ни одного туза'\n",
    "\n",
    "n = fact(52)/(fact(4)*fact(52 - 4)) # Способов выбрать 4 карты из 52\n",
    "\n",
    "k = (fact(48)/(fact(4)*fact(48 - 4))) # Способов выбрать 4 карты из 48 (52 - 4 туза) \n",
    "\n",
    "# k/n - вероятность вытащить 4 карты из 52,где не будет ни одного туза\n",
    "p2 = (1 - k/n)\n",
    "p2"
   ]
  },
  {
   "cell_type": "markdown",
   "id": "4979f6d8",
   "metadata": {},
   "source": [
    "###  Task 2\n",
    "На входной двери подъезда установлен кодовый замок, содержащий десять кнопок с цифрами от 0 до 9. Код содержит три цифры, которые нужно нажать одновременно. Какова вероятность того, что человек, не знающий код, откроет дверь с первой попытки?"
   ]
  },
  {
   "cell_type": "code",
   "execution_count": 31,
   "id": "d5a06737",
   "metadata": {},
   "outputs": [
    {
     "data": {
      "text/plain": [
       "0.008333333333333333"
      ]
     },
     "execution_count": 31,
     "metadata": {},
     "output_type": "execute_result"
    }
   ],
   "source": [
    "p1 = fact(10)/(fact(3)*fact(10 - 3)) #кол-во вариантов кода\n",
    "# из них 1 верный\n",
    "\n",
    "p = 1/p1\n",
    "p"
   ]
  },
  {
   "cell_type": "markdown",
   "id": "7d647f80",
   "metadata": {},
   "source": [
    "###  Task 3 \n",
    "В ящике имеется 15 деталей, из которых 9 окрашены. Рабочий случайным образом извлекает 3 детали. Какова вероятность того, что все извлеченные детали окрашены?"
   ]
  },
  {
   "cell_type": "code",
   "execution_count": 33,
   "id": "53d55a48",
   "metadata": {},
   "outputs": [
    {
     "data": {
      "text/plain": [
       "0.18461538461538463"
      ]
     },
     "execution_count": 33,
     "metadata": {},
     "output_type": "execute_result"
    }
   ],
   "source": [
    "n = fact(15)/(fact(3)*fact(15 - 3)) # Способов выбрать 3 детали из 15\n",
    "\n",
    "k = fact(9)/(fact(3)*fact(9 - 3)) # Способов выбрать 3 окрашеные детали \n",
    "\n",
    "p = k/n\n",
    "p"
   ]
  },
  {
   "cell_type": "markdown",
   "id": "175ddcd6",
   "metadata": {},
   "source": [
    "###  Task 4\n",
    "В лотерее 100 билетов. Из них 2 выигрышных. Какова вероятность того, что 2 приобретенных билета окажутся выигрышными?"
   ]
  },
  {
   "cell_type": "code",
   "execution_count": 32,
   "id": "68e26866",
   "metadata": {},
   "outputs": [
    {
     "data": {
      "text/plain": [
       "0.00020202020202020202"
      ]
     },
     "execution_count": 32,
     "metadata": {},
     "output_type": "execute_result"
    }
   ],
   "source": [
    "p = 2/100 * 1/99\n",
    "p"
   ]
  }
 ],
 "metadata": {
  "kernelspec": {
   "display_name": "Python 3 (ipykernel)",
   "language": "python",
   "name": "python3"
  },
  "language_info": {
   "codemirror_mode": {
    "name": "ipython",
    "version": 3
   },
   "file_extension": ".py",
   "mimetype": "text/x-python",
   "name": "python",
   "nbconvert_exporter": "python",
   "pygments_lexer": "ipython3",
   "version": "3.9.7"
  }
 },
 "nbformat": 4,
 "nbformat_minor": 5
}
