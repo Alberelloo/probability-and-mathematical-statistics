{
 "cells": [
  {
   "cell_type": "code",
   "execution_count": 4,
   "id": "d6b35956",
   "metadata": {},
   "outputs": [],
   "source": [
    "import numpy as np"
   ]
  },
  {
   "cell_type": "markdown",
   "id": "07188b69",
   "metadata": {},
   "source": [
    "### Task 1\n",
    "Случайная непрерывная величина A имеет равномерное распределение на промежутке (200, 800].\n",
    "Найдите ее среднее значение и дисперсию."
   ]
  },
  {
   "cell_type": "code",
   "execution_count": 15,
   "id": "0211e99c",
   "metadata": {},
   "outputs": [
    {
     "data": {
      "text/plain": [
       "(500.0, 90000.0)"
      ]
     },
     "execution_count": 15,
     "metadata": {},
     "output_type": "execute_result"
    }
   ],
   "source": [
    "A = np.array([200,800])\n",
    "M = A.mean()\n",
    "D = A.var()\n",
    "M, D"
   ]
  },
  {
   "cell_type": "markdown",
   "id": "6cc4df5d",
   "metadata": {},
   "source": [
    "### Task 2\n",
    "О случайной непрерывной равномерно распределенной величине B известно, что ее дисперсия равна 0.2.\n",
    "Можно ли найти правую границу величины B и ее среднее значение зная, что левая граница равна 0.5?\n",
    "Если да, найдите ее."
   ]
  },
  {
   "cell_type": "code",
   "execution_count": 6,
   "id": "0d6fe446",
   "metadata": {},
   "outputs": [
    {
     "data": {
      "text/plain": [
       "(0.6, 0.7)"
      ]
     },
     "execution_count": 6,
     "metadata": {},
     "output_type": "execute_result"
    }
   ],
   "source": [
    "M = 0.5 + 0.2 ** 1/2\n",
    "lim = 0.5 + 2 * (0.2 ** 1/2)\n",
    "M, lim"
   ]
  },
  {
   "cell_type": "markdown",
   "id": "6583565f",
   "metadata": {},
   "source": [
    "### Task 3\n",
    "Непрерывная случайная величина X распределена нормально и задана плотностью распределения\n",
    "\n",
    "$f(x) = \\frac{1}{4\\sqrt{2\\pi}} e^\\frac{-(x+2)^2}{32}$ \n",
    "\n",
    "Найдите:\n",
    "1. M(X)\n",
    "2. D(X)\n",
    "3. std(X)"
   ]
  },
  {
   "cell_type": "code",
   "execution_count": 2,
   "id": "d6415cae",
   "metadata": {},
   "outputs": [],
   "source": [
    "M = 2\n",
    "D = 32\n",
    "std = 4"
   ]
  },
  {
   "cell_type": "markdown",
   "id": "4cfff136",
   "metadata": {},
   "source": [
    "### Task 4\n",
    "Рост взрослого населения города X имеет нормальное распределение.\n",
    "Причем, средний рост равен 174 см, а среднее квадратичное отклонение равно 8 см.\n",
    "Какова вероятность того, что случайным образом выбранный взрослый человек имеет рост:\n",
    "1. больше 182 см\n",
    "2. больше 190 см\n",
    "3. от 166 см до 190 см\n",
    "4. от 166 см до 182 см\n",
    "5. от 158 см до 190 см\n",
    "6. не выше 150 см или не ниже 190 см\n",
    "7. не выше 150 см или не ниже 198 см\n",
    "8. ниже 166 см."
   ]
  },
  {
   "cell_type": "code",
   "execution_count": 5,
   "id": "da325ef7",
   "metadata": {},
   "outputs": [],
   "source": [
    "#1\n",
    "# (182 - 174) / 8 = Ф(1), что соответствует 34,13%\n",
    "\n",
    "#2\n",
    "# (190 - 174) / 8 = Ф(2), что соответствует 47,73%\n",
    "\n",
    "#3\n",
    "# ((190 - 174) / 8) - ((166 - 174) / 8) = Ф(3), что соответствует 49,87%\n",
    "\n",
    "#4\n",
    "# ((182 - 174) / 8) - ((166 - 174) / 8) = Ф(2), что соответствует 47,73%\n",
    "\n",
    "#5\n",
    "# ((190 - 174) / 8) - ((158 - 174) / 8) = Ф(4), что соответствует 49,99%\n",
    "\n",
    "#6\n",
    "# ((150 - 174) / 8) + (1 - (190 - 174) / 8) = Ф(-1), что соответствует 15,87%\n",
    "\n",
    "#7\n",
    "# ((150 - 174) / 8) + (1 - (198 - 174) / 8) = Ф(0), что соответствует 0%\n",
    "\n",
    "#8\n",
    "# (166 - 174) / 8 = Ф(-1), что соответствует 15,87%\n"
   ]
  },
  {
   "cell_type": "markdown",
   "id": "ac41ba7e",
   "metadata": {},
   "source": [
    "### Task 5\n",
    "На сколько сигм (средних квадратичных отклонений) отклоняется рост человека, равный 190 см, от\n",
    "математического ожидания роста в популяции, в которой M(X) = 178 см и D(X) = 25 кв.см?"
   ]
  },
  {
   "cell_type": "code",
   "execution_count": 17,
   "id": "e65ba14d",
   "metadata": {},
   "outputs": [
    {
     "data": {
      "text/plain": [
       "2.4"
      ]
     },
     "execution_count": 17,
     "metadata": {},
     "output_type": "execute_result"
    }
   ],
   "source": [
    "# Применим z нормализацию\n",
    "z = (190 - 178) / 5\n",
    "z"
   ]
  }
 ],
 "metadata": {
  "kernelspec": {
   "display_name": "Python 3 (ipykernel)",
   "language": "python",
   "name": "python3"
  },
  "language_info": {
   "codemirror_mode": {
    "name": "ipython",
    "version": 3
   },
   "file_extension": ".py",
   "mimetype": "text/x-python",
   "name": "python",
   "nbconvert_exporter": "python",
   "pygments_lexer": "ipython3",
   "version": "3.9.7"
  }
 },
 "nbformat": 4,
 "nbformat_minor": 5
}
