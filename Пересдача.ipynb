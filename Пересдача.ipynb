{
 "cells": [
  {
   "cell_type": "code",
   "execution_count": 1,
   "id": "ef3ab5d8",
   "metadata": {},
   "outputs": [],
   "source": [
    "import numpy as np"
   ]
  },
  {
   "cell_type": "markdown",
   "id": "93984796",
   "metadata": {},
   "source": [
    "### Task 3\n",
    "Непрерывная случайная величина X распределена нормально и задана плотностью распределения\n",
    "\n",
    "$f(x) = \\frac{1}{4\\sqrt{2\\pi}} e^\\frac{-(x+2)^2}{32}$ \n",
    "\n",
    "Найдите:\n",
    "1. M(X)\n",
    "2. D(X)\n",
    "3. std(X)"
   ]
  },
  {
   "cell_type": "code",
   "execution_count": 3,
   "id": "4ff3fd44",
   "metadata": {},
   "outputs": [],
   "source": [
    "M = -2"
   ]
  },
  {
   "cell_type": "markdown",
   "id": "b05aaf31",
   "metadata": {},
   "source": [
    "### Task 4\n",
    "Рост взрослого населения города X имеет нормальное распределение.\n",
    "Причем, средний рост равен 174 см, а среднее квадратичное отклонение равно 8 см.\n",
    "Какова вероятность того, что случайным образом выбранный взрослый человек имеет рост:\n",
    "1. больше 182 см\n",
    "2. больше 190 см\n",
    "3. от 166 см до 190 см\n",
    "4. от 166 см до 182 см\n",
    "5. от 158 см до 190 см"
   ]
  },
  {
   "cell_type": "code",
   "execution_count": null,
   "id": "6792ccf8",
   "metadata": {},
   "outputs": [],
   "source": [
    "#1\n",
    "# 1 - (182 - 174) / 8 = 1 - Ф(1), что соответствует 65,87%\n",
    "\n",
    "#2\n",
    "# 1 - (190 - 174) / 8 = 1 - Ф(2), что соответствует 52,28%\n",
    "\n",
    "#3\n",
    "# ((190 - 174) / 8) - ((166 - 174) / 8) = Ф(3), что соответствует 49,87%\n",
    "\n",
    "#4\n",
    "# ((182 - 174) / 8) - ((166 - 174) / 8) = Ф(2), что соответствует 47,73%\n",
    "\n",
    "#5\n",
    "# ((190 - 174) / 8) - ((158 - 174) / 8) = Ф(4), что соответствует 49,99%"
   ]
  }
 ],
 "metadata": {
  "kernelspec": {
   "display_name": "Python 3 (ipykernel)",
   "language": "python",
   "name": "python3"
  },
  "language_info": {
   "codemirror_mode": {
    "name": "ipython",
    "version": 3
   },
   "file_extension": ".py",
   "mimetype": "text/x-python",
   "name": "python",
   "nbconvert_exporter": "python",
   "pygments_lexer": "ipython3",
   "version": "3.9.7"
  }
 },
 "nbformat": 4,
 "nbformat_minor": 5
}
